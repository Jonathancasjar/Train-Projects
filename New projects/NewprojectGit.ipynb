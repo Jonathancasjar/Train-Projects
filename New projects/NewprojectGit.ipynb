{
 "cells": [
  {
   "cell_type": "code",
   "execution_count": 4,
   "metadata": {},
   "outputs": [],
   "source": [
    "def menu():\n",
    "    print('  ')\n",
    "    print('Bienvenido a la Calculadora.py')\n",
    "    print('  ')\n",
    "    print('Suma = 1')\n",
    "    print('Resta = 2')\n",
    "    print('División = 3')\n",
    "    print('Multiplicación = 4')\n",
    "    print('Cerrar calculadora = 5')\n",
    "    print('  ')\n",
    "    numero = eval(input('Ingresa el número: '))\n",
    "    return numero\n",
    "\n",
    "def sum():\n",
    "   x = eval(input('Ingresa x: '))\n",
    "   y = eval(input('Ingresa y: '))\n",
    "   suma = x + y\n",
    "   return suma  \n",
    "  \n",
    "def rest():\n",
    "   x = eval(input('Ingresa x: '))\n",
    "   y = eval(input('Ingresa y: '))\n",
    "   resta = x - y\n",
    "   return resta\n",
    "\n",
    "def div():\n",
    "   x = eval(input('Ingresa x: '))\n",
    "   y = eval(input('Ingresa y: ' ))\n",
    "   division = x / y\n",
    "   return division\n",
    "\n",
    "def mult():\n",
    "   x = eval(input('Ingresa x: '))\n",
    "   y = eval(input('Ingresa y: '))\n",
    "   mult = x * y\n",
    "   return mult\n"
   ]
  },
  {
   "cell_type": "code",
<<<<<<< HEAD
   "execution_count": 4,
   "metadata": {},
   "outputs": [
    {
     "data": {
      "text/plain": [
       "114"
      ]
     },
     "execution_count": 4,
     "metadata": {},
     "output_type": "execute_result"
    }
   ],
   "source": [
    "result = sum(25,89)\n",
    "result"
=======
   "execution_count": 5,
   "metadata": {},
   "outputs": [
    {
     "name": "stdout",
     "output_type": "stream",
     "text": [
      "  \n",
      "Bienvenido a la Calculadora.py\n",
      "  \n",
      "Suma = 1\n",
      "Resta = 2\n",
      "División = 3\n",
      "Multiplicación = 4\n",
      "Cerrar calculadora = 5\n",
      "  \n"
     ]
    }
   ],
   "source": [
    "loop = 1\n",
    "eleccion = 0\n",
    "\n",
    "while loop == 1 :\n",
    "      eleccion = menu()\n",
    "\n",
    "      if eleccion == 1:\n",
    "         resultado = sum()\n",
    "         print('  ') \n",
    "         print(f'El resultado es: {resultado}')\n",
    "\n",
    "      elif eleccion == 2:\n",
    "         resultado = rest()\n",
    "         print('  ')\n",
    "         print(f'El resultado es: {resultado}')\n",
    "\n",
    "      elif eleccion == 3:\n",
    "         resultado = div()\n",
    "         print('  ')\n",
    "         print(f'El resultado es: {resultado}')\n",
    "\n",
    "      elif eleccion == 4:\n",
    "         resultado = mult()\n",
    "         print('  ')\n",
    "         print(f'El resultado es: {resultado}')\n",
    "\n",
    "      elif eleccion == 5:\n",
    "         loop = 0\n"
>>>>>>> cabecera
   ]
  },
  {
   "cell_type": "code",
   "execution_count": null,
   "metadata": {},
   "outputs": [],
   "source": [
    "5"
   ]
  }
 ],
 "metadata": {
  "kernelspec": {
   "display_name": "Python 3.10.4 64-bit",
   "language": "python",
   "name": "python3"
  },
  "language_info": {
   "codemirror_mode": {
    "name": "ipython",
    "version": 3
   },
   "file_extension": ".py",
   "mimetype": "text/x-python",
   "name": "python",
   "nbconvert_exporter": "python",
   "pygments_lexer": "ipython3",
   "version": "3.10.4"
  },
  "orig_nbformat": 4,
  "vscode": {
   "interpreter": {
    "hash": "45af4ff877a542376a3ed0fff7fef94b2fe9eaa72fa9036d923b88bd6c019dc5"
   }
  }
 },
 "nbformat": 4,
 "nbformat_minor": 2
}
